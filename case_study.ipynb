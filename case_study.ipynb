{
  "nbformat": 4,
  "nbformat_minor": 0,
  "metadata": {
    "colab": {
      "name": "case study.ipynb",
      "provenance": []
    },
    "kernelspec": {
      "name": "python3",
      "display_name": "Python 3"
    },
    "language_info": {
      "name": "python"
    }
  },
  "cells": [
    {
      "cell_type": "markdown",
      "metadata": {
        "id": "YyZSCK6E6lmt"
      },
      "source": [
        "Case study - presentation of data"
      ]
    },
    {
      "cell_type": "code",
      "metadata": {
        "id": "A1k_XVV16bPe"
      },
      "source": [
        "import numpy as np\n",
        "import pandas as pd\n",
        "import matplotlib.pyplot as plt\n",
        "import seaborn as sns"
      ],
      "execution_count": 19,
      "outputs": []
    },
    {
      "cell_type": "markdown",
      "metadata": {
        "id": "6ViSvm_b63ft"
      },
      "source": [
        "Importing data"
      ]
    },
    {
      "cell_type": "code",
      "metadata": {
        "colab": {
          "base_uri": "https://localhost:8080/",
          "height": 521
        },
        "id": "2YsH5k9M7NS3",
        "outputId": "88e34a03-5cf5-4583-e41f-e1f89f5b4414"
      },
      "source": [
        "dataset = pd.read_csv('cars_data.csv')\n",
        "df = pd.DataFrame(dataset)\n",
        "df"
      ],
      "execution_count": 20,
      "outputs": [
        {
          "output_type": "execute_result",
          "data": {
            "text/html": [
              "<div>\n",
              "<style scoped>\n",
              "    .dataframe tbody tr th:only-of-type {\n",
              "        vertical-align: middle;\n",
              "    }\n",
              "\n",
              "    .dataframe tbody tr th {\n",
              "        vertical-align: top;\n",
              "    }\n",
              "\n",
              "    .dataframe thead th {\n",
              "        text-align: right;\n",
              "    }\n",
              "</style>\n",
              "<table border=\"1\" class=\"dataframe\">\n",
              "  <thead>\n",
              "    <tr style=\"text-align: right;\">\n",
              "      <th></th>\n",
              "      <th>Make</th>\n",
              "      <th>Model</th>\n",
              "      <th>Nickname</th>\n",
              "      <th>Car Gender</th>\n",
              "      <th>Buyer Gender</th>\n",
              "      <th>Buyer Age</th>\n",
              "      <th>Buzzword</th>\n",
              "      <th>Country</th>\n",
              "      <th>City</th>\n",
              "      <th>Dealer Latitude</th>\n",
              "      <th>Dealer Longitude</th>\n",
              "      <th>Color</th>\n",
              "      <th>New Car</th>\n",
              "      <th>Purchase Date</th>\n",
              "      <th>Sale Price</th>\n",
              "      <th>Discount</th>\n",
              "      <th>Resell Price</th>\n",
              "      <th>5-yr Depreciation</th>\n",
              "      <th>Top Speed</th>\n",
              "      <th>0-60 Time</th>\n",
              "    </tr>\n",
              "  </thead>\n",
              "  <tbody>\n",
              "    <tr>\n",
              "      <th>0</th>\n",
              "      <td>Suzuki</td>\n",
              "      <td>Vitara</td>\n",
              "      <td>Philippine</td>\n",
              "      <td>Female</td>\n",
              "      <td>Female</td>\n",
              "      <td>51</td>\n",
              "      <td>User-friendly</td>\n",
              "      <td>Belgium</td>\n",
              "      <td>Antwerpen</td>\n",
              "      <td>51.247239</td>\n",
              "      <td>4.440346</td>\n",
              "      <td>Yellow</td>\n",
              "      <td>False</td>\n",
              "      <td>19/07/2009</td>\n",
              "      <td>54806.14</td>\n",
              "      <td>0.2467</td>\n",
              "      <td>33858.32</td>\n",
              "      <td>0.13</td>\n",
              "      <td>200.9</td>\n",
              "      <td>11.5</td>\n",
              "    </tr>\n",
              "    <tr>\n",
              "      <th>1</th>\n",
              "      <td>Honda</td>\n",
              "      <td>S2000</td>\n",
              "      <td>Henrik</td>\n",
              "      <td>Male</td>\n",
              "      <td>Male</td>\n",
              "      <td>30</td>\n",
              "      <td>analyzing</td>\n",
              "      <td>China</td>\n",
              "      <td>Jinhu</td>\n",
              "      <td>33.025433</td>\n",
              "      <td>119.020584</td>\n",
              "      <td>Crimson</td>\n",
              "      <td>False</td>\n",
              "      <td>26/10/2015</td>\n",
              "      <td>51826.30</td>\n",
              "      <td>0.3147</td>\n",
              "      <td>2989.28</td>\n",
              "      <td>0.02</td>\n",
              "      <td>158.5</td>\n",
              "      <td>8.8</td>\n",
              "    </tr>\n",
              "    <tr>\n",
              "      <th>2</th>\n",
              "      <td>BMW</td>\n",
              "      <td>Z4</td>\n",
              "      <td>Lebbie</td>\n",
              "      <td>Male</td>\n",
              "      <td>Female</td>\n",
              "      <td>54</td>\n",
              "      <td>software</td>\n",
              "      <td>China</td>\n",
              "      <td>Gemo</td>\n",
              "      <td>30.916207</td>\n",
              "      <td>121.677640</td>\n",
              "      <td>Khaki</td>\n",
              "      <td>False</td>\n",
              "      <td>28/03/2010</td>\n",
              "      <td>82929.14</td>\n",
              "      <td>0.5414</td>\n",
              "      <td>35049.16</td>\n",
              "      <td>0.24</td>\n",
              "      <td>149.5</td>\n",
              "      <td>14.4</td>\n",
              "    </tr>\n",
              "    <tr>\n",
              "      <th>3</th>\n",
              "      <td>Toyota</td>\n",
              "      <td>Tacoma</td>\n",
              "      <td>Jefferey</td>\n",
              "      <td>Female</td>\n",
              "      <td>Male</td>\n",
              "      <td>68</td>\n",
              "      <td>monitoring</td>\n",
              "      <td>Portugal</td>\n",
              "      <td>Queluz de Baixo</td>\n",
              "      <td>38.745168</td>\n",
              "      <td>-9.267087</td>\n",
              "      <td>Puce</td>\n",
              "      <td>False</td>\n",
              "      <td>07/05/2008</td>\n",
              "      <td>56928.66</td>\n",
              "      <td>0.0850</td>\n",
              "      <td>8236.15</td>\n",
              "      <td>0.20</td>\n",
              "      <td>153.3</td>\n",
              "      <td>11.5</td>\n",
              "    </tr>\n",
              "    <tr>\n",
              "      <th>4</th>\n",
              "      <td>Ford</td>\n",
              "      <td>Festiva</td>\n",
              "      <td>Glendon</td>\n",
              "      <td>Female</td>\n",
              "      <td>Male</td>\n",
              "      <td>70</td>\n",
              "      <td>Sharable</td>\n",
              "      <td>Latvia</td>\n",
              "      <td>Jaunpils</td>\n",
              "      <td>56.729980</td>\n",
              "      <td>23.016588</td>\n",
              "      <td>Yellow</td>\n",
              "      <td>False</td>\n",
              "      <td>01/06/2008</td>\n",
              "      <td>77201.26</td>\n",
              "      <td>0.1642</td>\n",
              "      <td>32765.76</td>\n",
              "      <td>0.18</td>\n",
              "      <td>122.0</td>\n",
              "      <td>14.9</td>\n",
              "    </tr>\n",
              "    <tr>\n",
              "      <th>...</th>\n",
              "      <td>...</td>\n",
              "      <td>...</td>\n",
              "      <td>...</td>\n",
              "      <td>...</td>\n",
              "      <td>...</td>\n",
              "      <td>...</td>\n",
              "      <td>...</td>\n",
              "      <td>...</td>\n",
              "      <td>...</td>\n",
              "      <td>...</td>\n",
              "      <td>...</td>\n",
              "      <td>...</td>\n",
              "      <td>...</td>\n",
              "      <td>...</td>\n",
              "      <td>...</td>\n",
              "      <td>...</td>\n",
              "      <td>...</td>\n",
              "      <td>...</td>\n",
              "      <td>...</td>\n",
              "      <td>...</td>\n",
              "    </tr>\n",
              "    <tr>\n",
              "      <th>9995</th>\n",
              "      <td>Mazda</td>\n",
              "      <td>Tribute</td>\n",
              "      <td>Cooper</td>\n",
              "      <td>Male</td>\n",
              "      <td>Male</td>\n",
              "      <td>44</td>\n",
              "      <td>hardware</td>\n",
              "      <td>Pakistan</td>\n",
              "      <td>Chishtiān Mandi</td>\n",
              "      <td>29.919386</td>\n",
              "      <td>73.074787</td>\n",
              "      <td>Pink</td>\n",
              "      <td>False</td>\n",
              "      <td>05/01/2020</td>\n",
              "      <td>58580.65</td>\n",
              "      <td>0.1611</td>\n",
              "      <td>42640.82</td>\n",
              "      <td>0.14</td>\n",
              "      <td>245.8</td>\n",
              "      <td>8.0</td>\n",
              "    </tr>\n",
              "    <tr>\n",
              "      <th>9996</th>\n",
              "      <td>GMC</td>\n",
              "      <td>Sierra 2500</td>\n",
              "      <td>Dud</td>\n",
              "      <td>Male</td>\n",
              "      <td>Male</td>\n",
              "      <td>40</td>\n",
              "      <td>Enhanced</td>\n",
              "      <td>Costa Rica</td>\n",
              "      <td>Ángeles</td>\n",
              "      <td>10.075000</td>\n",
              "      <td>-84.241523</td>\n",
              "      <td>Puce</td>\n",
              "      <td>False</td>\n",
              "      <td>28/12/2005</td>\n",
              "      <td>75229.74</td>\n",
              "      <td>0.2691</td>\n",
              "      <td>21115.58</td>\n",
              "      <td>0.11</td>\n",
              "      <td>147.4</td>\n",
              "      <td>12.3</td>\n",
              "    </tr>\n",
              "    <tr>\n",
              "      <th>9997</th>\n",
              "      <td>Mercury</td>\n",
              "      <td>Mariner</td>\n",
              "      <td>Chariot</td>\n",
              "      <td>Male</td>\n",
              "      <td>Male</td>\n",
              "      <td>37</td>\n",
              "      <td>monitoring</td>\n",
              "      <td>Poland</td>\n",
              "      <td>Dąbrowice</td>\n",
              "      <td>52.311922</td>\n",
              "      <td>19.084965</td>\n",
              "      <td>Blue</td>\n",
              "      <td>False</td>\n",
              "      <td>08/03/2013</td>\n",
              "      <td>34755.44</td>\n",
              "      <td>0.2493</td>\n",
              "      <td>2731.25</td>\n",
              "      <td>0.12</td>\n",
              "      <td>198.1</td>\n",
              "      <td>11.8</td>\n",
              "    </tr>\n",
              "    <tr>\n",
              "      <th>9998</th>\n",
              "      <td>Daewoo</td>\n",
              "      <td>Leganza</td>\n",
              "      <td>Dynah</td>\n",
              "      <td>Female</td>\n",
              "      <td>Female</td>\n",
              "      <td>21</td>\n",
              "      <td>cohesive</td>\n",
              "      <td>Philippines</td>\n",
              "      <td>Villasis</td>\n",
              "      <td>15.901640</td>\n",
              "      <td>120.587828</td>\n",
              "      <td>Teal</td>\n",
              "      <td>True</td>\n",
              "      <td>21/02/2008</td>\n",
              "      <td>98725.42</td>\n",
              "      <td>0.4654</td>\n",
              "      <td>18718.58</td>\n",
              "      <td>0.04</td>\n",
              "      <td>206.7</td>\n",
              "      <td>12.2</td>\n",
              "    </tr>\n",
              "    <tr>\n",
              "      <th>9999</th>\n",
              "      <td>Toyota</td>\n",
              "      <td>Sequoia</td>\n",
              "      <td>Zedekiah</td>\n",
              "      <td>Female</td>\n",
              "      <td>Male</td>\n",
              "      <td>21</td>\n",
              "      <td>analyzing</td>\n",
              "      <td>Philippines</td>\n",
              "      <td>Basud</td>\n",
              "      <td>14.048167</td>\n",
              "      <td>122.955697</td>\n",
              "      <td>Pink</td>\n",
              "      <td>False</td>\n",
              "      <td>16/12/2017</td>\n",
              "      <td>96769.78</td>\n",
              "      <td>0.5446</td>\n",
              "      <td>4545.95</td>\n",
              "      <td>0.07</td>\n",
              "      <td>242.1</td>\n",
              "      <td>3.2</td>\n",
              "    </tr>\n",
              "  </tbody>\n",
              "</table>\n",
              "<p>10000 rows × 20 columns</p>\n",
              "</div>"
            ],
            "text/plain": [
              "         Make        Model    Nickname  ... 5-yr Depreciation Top Speed  0-60 Time\n",
              "0      Suzuki       Vitara  Philippine  ...              0.13     200.9       11.5\n",
              "1       Honda        S2000      Henrik  ...              0.02     158.5        8.8\n",
              "2         BMW           Z4      Lebbie  ...              0.24     149.5       14.4\n",
              "3      Toyota       Tacoma    Jefferey  ...              0.20     153.3       11.5\n",
              "4        Ford      Festiva     Glendon  ...              0.18     122.0       14.9\n",
              "...       ...          ...         ...  ...               ...       ...        ...\n",
              "9995    Mazda      Tribute      Cooper  ...              0.14     245.8        8.0\n",
              "9996      GMC  Sierra 2500         Dud  ...              0.11     147.4       12.3\n",
              "9997  Mercury      Mariner     Chariot  ...              0.12     198.1       11.8\n",
              "9998   Daewoo      Leganza       Dynah  ...              0.04     206.7       12.2\n",
              "9999   Toyota      Sequoia    Zedekiah  ...              0.07     242.1        3.2\n",
              "\n",
              "[10000 rows x 20 columns]"
            ]
          },
          "metadata": {},
          "execution_count": 20
        }
      ]
    },
    {
      "cell_type": "markdown",
      "metadata": {
        "id": "Hb6rpJvk7kC4"
      },
      "source": [
        "Checking for Null Values"
      ]
    },
    {
      "cell_type": "code",
      "metadata": {
        "colab": {
          "base_uri": "https://localhost:8080/"
        },
        "id": "E-osSGCV7mnw",
        "outputId": "15d4cc8b-86c2-4498-c7de-4b9e27b3edd8"
      },
      "source": [
        "df.isnull().sum()"
      ],
      "execution_count": 21,
      "outputs": [
        {
          "output_type": "execute_result",
          "data": {
            "text/plain": [
              "Make                 0\n",
              "Model                0\n",
              "Nickname             0\n",
              "Car Gender           0\n",
              "Buyer Gender         0\n",
              "Buyer Age            0\n",
              "Buzzword             0\n",
              "Country              0\n",
              "City                 0\n",
              "Dealer Latitude      0\n",
              "Dealer Longitude     0\n",
              "Color                0\n",
              "New Car              0\n",
              "Purchase Date        0\n",
              "Sale Price           0\n",
              "Discount             0\n",
              "Resell Price         0\n",
              "5-yr Depreciation    0\n",
              "Top Speed            0\n",
              "0-60 Time            0\n",
              "dtype: int64"
            ]
          },
          "metadata": {},
          "execution_count": 21
        }
      ]
    },
    {
      "cell_type": "markdown",
      "metadata": {
        "id": "2soSSEWw8FhH"
      },
      "source": [
        "Male and Female Buyers"
      ]
    },
    {
      "cell_type": "code",
      "metadata": {
        "colab": {
          "base_uri": "https://localhost:8080/",
          "height": 312
        },
        "id": "wYRkfPGf8FsJ",
        "outputId": "ab6db24e-c74f-4edb-c382-cfce36a9acb1"
      },
      "source": [
        "df['Buyer Gender'].value_counts().plot(kind='bar')\n",
        "plt.title('Male and Female buyers')\n",
        "plt.xticks(rotation=0)\n",
        "plt.xlabel('Gender')\n",
        "plt.ylabel('Number')"
      ],
      "execution_count": 22,
      "outputs": [
        {
          "output_type": "execute_result",
          "data": {
            "text/plain": [
              "Text(0, 0.5, 'Number')"
            ]
          },
          "metadata": {},
          "execution_count": 22
        },
        {
          "output_type": "display_data",
          "data": {
            "image/png": "[encoded data removed]",
            "text/plain": [
              "<Figure size 432x288 with 1 Axes>"
            ]
          },
          "metadata": {
            "needs_background": "light"
          }
        }
      ]
    },
    {
      "cell_type": "markdown",
      "metadata": {
        "id": "VghwHWc27_IC"
      },
      "source": [
        "Top 5 cars - Sale Price"
      ]
    },
    {
      "cell_type": "code",
      "metadata": {
        "colab": {
          "base_uri": "https://localhost:8080/",
          "height": 203
        },
        "id": "oknCG5fc-OXz",
        "outputId": "3de8bf02-14fb-4f9f-a54f-66e742a70fc2"
      },
      "source": [
        "sell = df[[\"Make\",\"Model\",\"Sale Price\"]]\n",
        "top = sell.sort_values(by='Sale Price',ascending=False)\n",
        "top.head(5)"
      ],
      "execution_count": 23,
      "outputs": [
        {
          "output_type": "execute_result",
          "data": {
            "text/html": [
              "<div>\n",
              "<style scoped>\n",
              "    .dataframe tbody tr th:only-of-type {\n",
              "        vertical-align: middle;\n",
              "    }\n",
              "\n",
              "    .dataframe tbody tr th {\n",
              "        vertical-align: top;\n",
              "    }\n",
              "\n",
              "    .dataframe thead th {\n",
              "        text-align: right;\n",
              "    }\n",
              "</style>\n",
              "<table border=\"1\" class=\"dataframe\">\n",
              "  <thead>\n",
              "    <tr style=\"text-align: right;\">\n",
              "      <th></th>\n",
              "      <th>Make</th>\n",
              "      <th>Model</th>\n",
              "      <th>Sale Price</th>\n",
              "    </tr>\n",
              "  </thead>\n",
              "  <tbody>\n",
              "    <tr>\n",
              "      <th>5984</th>\n",
              "      <td>Volkswagen</td>\n",
              "      <td>Jetta III</td>\n",
              "      <td>99997.65</td>\n",
              "    </tr>\n",
              "    <tr>\n",
              "      <th>1270</th>\n",
              "      <td>Audi</td>\n",
              "      <td>A6</td>\n",
              "      <td>99991.91</td>\n",
              "    </tr>\n",
              "    <tr>\n",
              "      <th>3460</th>\n",
              "      <td>Lexus</td>\n",
              "      <td>LX</td>\n",
              "      <td>99983.38</td>\n",
              "    </tr>\n",
              "    <tr>\n",
              "      <th>9032</th>\n",
              "      <td>Mazda</td>\n",
              "      <td>MX-6</td>\n",
              "      <td>99978.17</td>\n",
              "    </tr>\n",
              "    <tr>\n",
              "      <th>302</th>\n",
              "      <td>Lexus</td>\n",
              "      <td>ES</td>\n",
              "      <td>99973.44</td>\n",
              "    </tr>\n",
              "  </tbody>\n",
              "</table>\n",
              "</div>"
            ],
            "text/plain": [
              "            Make      Model  Sale Price\n",
              "5984  Volkswagen  Jetta III    99997.65\n",
              "1270        Audi         A6    99991.91\n",
              "3460       Lexus         LX    99983.38\n",
              "9032       Mazda       MX-6    99978.17\n",
              "302        Lexus         ES    99973.44"
            ]
          },
          "metadata": {},
          "execution_count": 23
        }
      ]
    },
    {
      "cell_type": "markdown",
      "metadata": {
        "id": "Mw2bL-Cq-cKH"
      },
      "source": [
        "Least 5 Cars - Resell Price"
      ]
    },
    {
      "cell_type": "code",
      "metadata": {
        "colab": {
          "base_uri": "https://localhost:8080/",
          "height": 203
        },
        "id": "jriQkVUF-iZ9",
        "outputId": "fdaa5bc1-e0f4-409b-ad4c-858f165f4eeb"
      },
      "source": [
        "resell = df[[\"Make\",\"Model\",\"Resell Price\"]]\n",
        "least = resell.sort_values(by='Resell Price',ascending=True)\n",
        "least.head(5)"
      ],
      "execution_count": 24,
      "outputs": [
        {
          "output_type": "execute_result",
          "data": {
            "text/html": [
              "<div>\n",
              "<style scoped>\n",
              "    .dataframe tbody tr th:only-of-type {\n",
              "        vertical-align: middle;\n",
              "    }\n",
              "\n",
              "    .dataframe tbody tr th {\n",
              "        vertical-align: top;\n",
              "    }\n",
              "\n",
              "    .dataframe thead th {\n",
              "        text-align: right;\n",
              "    }\n",
              "</style>\n",
              "<table border=\"1\" class=\"dataframe\">\n",
              "  <thead>\n",
              "    <tr style=\"text-align: right;\">\n",
              "      <th></th>\n",
              "      <th>Make</th>\n",
              "      <th>Model</th>\n",
              "      <th>Resell Price</th>\n",
              "    </tr>\n",
              "  </thead>\n",
              "  <tbody>\n",
              "    <tr>\n",
              "      <th>2446</th>\n",
              "      <td>Chevrolet</td>\n",
              "      <td>1500</td>\n",
              "      <td>2000.84</td>\n",
              "    </tr>\n",
              "    <tr>\n",
              "      <th>4933</th>\n",
              "      <td>GMC</td>\n",
              "      <td>Savana 1500</td>\n",
              "      <td>2005.44</td>\n",
              "    </tr>\n",
              "    <tr>\n",
              "      <th>566</th>\n",
              "      <td>Jaguar</td>\n",
              "      <td>XF</td>\n",
              "      <td>2014.09</td>\n",
              "    </tr>\n",
              "    <tr>\n",
              "      <th>2538</th>\n",
              "      <td>Mitsubishi</td>\n",
              "      <td>3000GT</td>\n",
              "      <td>2017.24</td>\n",
              "    </tr>\n",
              "    <tr>\n",
              "      <th>5869</th>\n",
              "      <td>Infiniti</td>\n",
              "      <td>G37</td>\n",
              "      <td>2017.83</td>\n",
              "    </tr>\n",
              "  </tbody>\n",
              "</table>\n",
              "</div>"
            ],
            "text/plain": [
              "            Make        Model  Resell Price\n",
              "2446   Chevrolet         1500       2000.84\n",
              "4933         GMC  Savana 1500       2005.44\n",
              "566       Jaguar           XF       2014.09\n",
              "2538  Mitsubishi       3000GT       2017.24\n",
              "5869    Infiniti          G37       2017.83"
            ]
          },
          "metadata": {},
          "execution_count": 24
        }
      ]
    }
  ]
}